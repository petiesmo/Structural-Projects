{
  "nbformat": 4,
  "nbformat_minor": 0,
  "metadata": {
    "colab": {
      "name": "Hex_Frame.ipynb",
      "provenance": [],
      "collapsed_sections": [],
      "toc_visible": true,
      "mount_file_id": "1DgZwgcXJ8rNZq1u1UPmoUo6UKt4X4oic",
      "authorship_tag": "ABX9TyMn7dYIyxDRICn4BXk868m2",
      "include_colab_link": true
    },
    "kernelspec": {
      "name": "python3",
      "display_name": "Python 3"
    }
  },
  "cells": [
    {
      "cell_type": "markdown",
      "metadata": {
        "id": "view-in-github",
        "colab_type": "text"
      },
      "source": [
        "<a href=\"https://colab.research.google.com/github/petiesmo/Structural-Projects/blob/main/Hex_Frame.ipynb\" target=\"_parent\"><img src=\"https://colab.research.google.com/assets/colab-badge.svg\" alt=\"Open In Colab\"/></a>"
      ]
    },
    {
      "cell_type": "markdown",
      "metadata": {
        "id": "VcFH55eDn55K"
      },
      "source": [
        "#Structural Stiffness Analysis\n",
        "##Hexagonal Cell \n",
        "---\n",
        "Assumptions:\n",
        "- Homogeneous, Isotropic material\n",
        "- Linear Elastic loading\n",
        "- Small displacements\n",
        "- 2D planar motion\n",
        "- Rigid connections at intersections\n"
      ]
    },
    {
      "cell_type": "markdown",
      "metadata": {
        "id": "KGrUF0J7XQsV"
      },
      "source": [
        "##System Calls & Imports "
      ]
    },
    {
      "cell_type": "code",
      "metadata": {
        "id": "1qyUYjuZK7LD",
        "cellView": "both",
        "outputId": "3b493aa9-ec5b-4d98-e018-f96d5f1942c7",
        "colab": {
          "base_uri": "https://localhost:8080/",
          "height": 173
        }
      },
      "source": [
        "!pip install anastruct"
      ],
      "execution_count": 1,
      "outputs": [
        {
          "output_type": "stream",
          "text": [
            "Requirement already satisfied: anastruct in /usr/local/lib/python3.6/dist-packages (1.1.2)\n",
            "Requirement already satisfied: numpy>=1.15.4 in /usr/local/lib/python3.6/dist-packages (from anastruct) (1.18.5)\n",
            "Requirement already satisfied: matplotlib<3.1,>=3.0 in /usr/local/lib/python3.6/dist-packages (from anastruct) (3.0.3)\n",
            "Requirement already satisfied: scipy>=1.1.0 in /usr/local/lib/python3.6/dist-packages (from anastruct) (1.4.1)\n",
            "Requirement already satisfied: python-dateutil>=2.1 in /usr/local/lib/python3.6/dist-packages (from matplotlib<3.1,>=3.0->anastruct) (2.8.1)\n",
            "Requirement already satisfied: cycler>=0.10 in /usr/local/lib/python3.6/dist-packages (from matplotlib<3.1,>=3.0->anastruct) (0.10.0)\n",
            "Requirement already satisfied: kiwisolver>=1.0.1 in /usr/local/lib/python3.6/dist-packages (from matplotlib<3.1,>=3.0->anastruct) (1.2.0)\n",
            "Requirement already satisfied: pyparsing!=2.0.4,!=2.1.2,!=2.1.6,>=2.0.1 in /usr/local/lib/python3.6/dist-packages (from matplotlib<3.1,>=3.0->anastruct) (2.4.7)\n",
            "Requirement already satisfied: six>=1.5 in /usr/local/lib/python3.6/dist-packages (from python-dateutil>=2.1->matplotlib<3.1,>=3.0->anastruct) (1.15.0)\n"
          ],
          "name": "stdout"
        }
      ]
    },
    {
      "cell_type": "code",
      "metadata": {
        "id": "WDo9q0XuLPun"
      },
      "source": [
        "import anastruct as ast\n",
        "from anastruct import SystemElements\n",
        "from anastruct import Vertex\n",
        "from matplotlib import pyplot as plt\n",
        "import numpy as np\n",
        "from pprint import pprint"
      ],
      "execution_count": 2,
      "outputs": []
    },
    {
      "cell_type": "code",
      "metadata": {
        "id": "jT7aLVtyY-Ow"
      },
      "source": [
        "# Unit scaling\n",
        "N = 1\n",
        "uN = 10**-6 * N\n",
        "m = 1\n",
        "um = 10**-6 * m\n",
        "nm = 10**-9 * m\n",
        "Pa = 1 * N / m**2\n",
        "MPa = 10**6 * Pa\n",
        "GPa = 10**9 * Pa\n",
        "deg = np.pi / 180  #Radians"
      ],
      "execution_count": 3,
      "outputs": []
    },
    {
      "cell_type": "markdown",
      "metadata": {
        "id": "nGHhSLJlX2OK"
      },
      "source": [
        "##Model Input Parameters"
      ]
    },
    {
      "cell_type": "code",
      "metadata": {
        "id": "vYrqA5rQ18dd"
      },
      "source": [
        "#Geometry\n",
        "leg = 60 * um\n",
        "base = 60 * um\n",
        "phi = 120 * deg\n",
        "\n",
        "# Beam Cross-Section (Rectangular)\n",
        "t_xs = 3.5 * um   # Leg thickness, Beam 'height'\n",
        "d_xs = 25 * um       # Zaxis depth, Beam 'width'\n",
        "A_xs = t_xs * d_xs\n",
        "I_xs = d_xs * t_xs**3 / 12\n",
        "\n",
        "# Material Properties\n",
        "E_y = 169 * GPa\n",
        "p = 0.29\n",
        "Sy = 7 * GPa"
      ],
      "execution_count": 4,
      "outputs": []
    },
    {
      "cell_type": "markdown",
      "metadata": {
        "id": "viHNjKzpY4FO"
      },
      "source": [
        "##Functions"
      ]
    },
    {
      "cell_type": "code",
      "metadata": {
        "id": "v3O3ruD3ZPHD"
      },
      "source": [
        "def Vector(L,theta):\n",
        "  ''' Given a (Length,Angle) vector input ,\n",
        "  Returns an (x,y) coordinate Vertex object.'''\n",
        "  return Vertex(L*np.cos(theta), L*np.sin(theta))"
      ],
      "execution_count": 5,
      "outputs": []
    },
    {
      "cell_type": "code",
      "metadata": {
        "id": "yP5_tSEBN6vG"
      },
      "source": [
        "def struct_solve(EA_, EI_, load = 100*uN, show=True):\n",
        "  ss = SystemElements(EA=EA_, EI=EI_)\n",
        "  p0 = Vertex(leg,0)\n",
        "  p1 = p0 + Vector(leg,phi)\n",
        "  p2 = p1 + Vector(leg,phi/2)\n",
        "  p3 = p2 + Vector(base/2,0)\n",
        "  p4 = p3 + Vector(base/2,0)\n",
        "  p5 = p0 + Vector(base,0)\n",
        "  p6 = p5 + Vector(leg,phi/2)\n",
        "\n",
        "  ss.add_element(location=[p0,p1])\n",
        "  ss.add_element(location=[p1,p2])\n",
        "  ss.add_element(location=[p2,p3])\n",
        "  ss.add_element(location=[p3,p4])\n",
        "  ss.add_element(location=[p4,p6])\n",
        "  ss.add_element(location=[p5,p6])\n",
        "  ss.add_element(location=[p0,p5])\n",
        "\n",
        "  ss.add_support_fixed(1)\n",
        "  ss.add_support_fixed(7)\n",
        "  ss.q_load(q=-load/leg, element_id=3, direction='y')\n",
        "  ss.q_load(q=-load/leg, element_id=4, direction='y')\n",
        "  if show: ss.show_structure(offset = (0,0))\n",
        "  ss.solve()\n",
        "\n",
        "  #Report nodal results information: (id, Fx, Fy, Ty, ux, uy, phi_y)\n",
        "  res = ss.get_node_results_system()    \n",
        "  disp_raw = dict([(d[0],d[4:]) for d in res])\n",
        "  react_raw = dict([(r[0],r[1:4]) for r in res])\n",
        "  if show: ss.show_displacement(factor=100)\n",
        "\n",
        "  #Convert results to nm and degrees\n",
        "  disp = {k:[np.round(x/nm,4), np.round(y/nm,4), np.round(th*180/np.pi,3)] for k,(x,y,th) in disp_raw.items()}\n",
        "  disp['units'] = ['nm', 'nm', 'deg']\n",
        "  react = {k:[np.round(x/uN,4), np.round(y/uN,4), np.round(th/uN/nm,3)] for k,(x,y,th) in react_raw.items()}\n",
        "  react['units'] = ['uN', 'uN', 'uN*nm']\n",
        "  #pprint(disp_raw)\n",
        "  #pprint(react_raw)\n",
        "  #print('nm, nm, deg')\n",
        "  loaduN = np.round(load/uN)\n",
        "  return {loaduN: {'load':f'{loaduN} uN', 'react':react, 'disp':disp}}"
      ],
      "execution_count": 6,
      "outputs": []
    },
    {
      "cell_type": "markdown",
      "metadata": {
        "id": "nedCo9aQZmZk"
      },
      "source": [
        "##Results"
      ]
    },
    {
      "cell_type": "markdown",
      "metadata": {
        "id": "Ov2NTynwazEV"
      },
      "source": [
        "###At Client's stated load: 100 uN"
      ]
    },
    {
      "cell_type": "code",
      "metadata": {
        "id": "xjQM0PAYouo3",
        "outputId": "d0c48e15-327e-45b7-ddcb-dcce3f3bb64f",
        "colab": {
          "base_uri": "https://localhost:8080/",
          "height": 1000
        }
      },
      "source": [
        "load1 = 100 * uN\n",
        "EA_hex = E_y * A_xs\n",
        "EI_hex = E_y * I_xs\n",
        "results = struct_solve(EA_hex, EI_hex, load1, show=True)\n",
        "pprint(results)"
      ],
      "execution_count": 7,
      "outputs": [
        {
          "output_type": "display_data",
          "data": {
            "image/png": "[encoded data removed]",
            "text/plain": [
              "<Figure size 864x576 with 1 Axes>"
            ]
          },
          "metadata": {
            "tags": [],
            "needs_background": "light"
          }
        },
        {
          "output_type": "display_data",
          "data": {
            "image/png": "[encoded data removed]",
            "text/plain": [
              "<Figure size 864x576 with 1 Axes>"
            ]
          },
          "metadata": {
            "tags": [],
            "needs_background": "light"
          }
        },
        {
          "output_type": "stream",
          "text": [
            "{100.0: {'disp': {1: [-0.0, 0.0, -0.0],\n",
            "                  2: [41.8579, 24.3484, -0.018],\n",
            "                  3: [-0.0183, 48.7496, 0.071],\n",
            "                  4: [0.0, 71.1111, -0.0],\n",
            "                  5: [0.0183, 48.7496, -0.071],\n",
            "                  6: [-41.8579, 24.3484, 0.018],\n",
            "                  7: [-0.0, 0.0, -0.0],\n",
            "                  'units': ['nm', 'nm', 'deg']},\n",
            "         'load': '100.0 uN',\n",
            "         'react': {1: [-9.0179, -50.0, 1062300.578],\n",
            "                   2: [0.0, 0.0, 0.0],\n",
            "                   3: [0.0, -0.0, -0.0],\n",
            "                   4: [0.0, 0.0, 0.0],\n",
            "                   5: [-0.0, 0.0, 0.0],\n",
            "                   6: [0.0, -0.0, -0.0],\n",
            "                   7: [9.0179, -50.0, -1062300.543],\n",
            "                   'units': ['uN', 'uN', 'uN*nm']}}}\n"
          ],
          "name": "stdout"
        }
      ]
    },
    {
      "cell_type": "markdown",
      "metadata": {
        "id": "yr5pkNqaa9Iq"
      },
      "source": [
        "###Check linearity over a range of loads\n",
        "25uN to 3200uN (by factors of 2)"
      ]
    },
    {
      "cell_type": "code",
      "metadata": {
        "id": "mAnfjAvzs0cf",
        "cellView": "both",
        "outputId": "3c469bad-5b54-4e09-9f58-14e16acb9fef",
        "colab": {
          "base_uri": "https://localhost:8080/",
          "height": 1000
        }
      },
      "source": [
        "#@title\n",
        "EA_hex = E_y * A_xs\n",
        "EI_hex = E_y * I_xs\n",
        "loads = [load1*2**i for i in range(-2,5,1)]\n",
        "res = {}\n",
        "for load in loads:\n",
        "  res.update(struct_solve(EA_hex, EI_hex, load, show=False))\n",
        "pprint(res)"
      ],
      "execution_count": 8,
      "outputs": [
        {
          "output_type": "stream",
          "text": [
            "{25.0: {'disp': {1: [-0.0, 0.0, -0.0],\n",
            "                 2: [10.4645, 6.0871, -0.004],\n",
            "                 3: [-0.0046, 12.1874, 0.018],\n",
            "                 4: [0.0, 17.7778, -0.0],\n",
            "                 5: [0.0046, 12.1874, -0.018],\n",
            "                 6: [-10.4645, 6.0871, 0.004],\n",
            "                 7: [-0.0, 0.0, -0.0],\n",
            "                 'units': ['nm', 'nm', 'deg']},\n",
            "        'load': '25.0 uN',\n",
            "        'react': {1: [-2.2545, -12.5, 265575.145],\n",
            "                  2: [0.0, 0.0, 0.0],\n",
            "                  3: [0.0, -0.0, -0.0],\n",
            "                  4: [0.0, 0.0, 0.0],\n",
            "                  5: [-0.0, 0.0, 0.0],\n",
            "                  6: [0.0, -0.0, -0.0],\n",
            "                  7: [2.2545, -12.5, -265575.136],\n",
            "                  'units': ['uN', 'uN', 'uN*nm']}},\n",
            " 50.0: {'disp': {1: [-0.0, 0.0, -0.0],\n",
            "                 2: [20.9289, 12.1742, -0.009],\n",
            "                 3: [-0.0091, 24.3748, 0.036],\n",
            "                 4: [0.0, 35.5556, -0.0],\n",
            "                 5: [0.0091, 24.3748, -0.036],\n",
            "                 6: [-20.9289, 12.1742, 0.009],\n",
            "                 7: [-0.0, 0.0, -0.0],\n",
            "                 'units': ['nm', 'nm', 'deg']},\n",
            "        'load': '50.0 uN',\n",
            "        'react': {1: [-4.509, -25.0, 531150.289],\n",
            "                  2: [0.0, 0.0, 0.0],\n",
            "                  3: [0.0, -0.0, -0.0],\n",
            "                  4: [0.0, 0.0, 0.0],\n",
            "                  5: [-0.0, 0.0, 0.0],\n",
            "                  6: [0.0, -0.0, -0.0],\n",
            "                  7: [4.509, -25.0, -531150.271],\n",
            "                  'units': ['uN', 'uN', 'uN*nm']}},\n",
            " 100.0: {'disp': {1: [-0.0, 0.0, -0.0],\n",
            "                  2: [41.8579, 24.3484, -0.018],\n",
            "                  3: [-0.0183, 48.7496, 0.071],\n",
            "                  4: [0.0, 71.1111, -0.0],\n",
            "                  5: [0.0183, 48.7496, -0.071],\n",
            "                  6: [-41.8579, 24.3484, 0.018],\n",
            "                  7: [-0.0, 0.0, -0.0],\n",
            "                  'units': ['nm', 'nm', 'deg']},\n",
            "         'load': '100.0 uN',\n",
            "         'react': {1: [-9.0179, -50.0, 1062300.578],\n",
            "                   2: [0.0, 0.0, 0.0],\n",
            "                   3: [0.0, -0.0, -0.0],\n",
            "                   4: [0.0, 0.0, 0.0],\n",
            "                   5: [-0.0, 0.0, 0.0],\n",
            "                   6: [0.0, -0.0, -0.0],\n",
            "                   7: [9.0179, -50.0, -1062300.543],\n",
            "                   'units': ['uN', 'uN', 'uN*nm']}},\n",
            " 200.0: {'disp': {1: [-0.0, 0.0, -0.0],\n",
            "                  2: [83.7157, 48.6968, -0.036],\n",
            "                  3: [-0.0366, 97.4992, 0.142],\n",
            "                  4: [0.0, 142.2222, -0.0],\n",
            "                  5: [0.0366, 97.4992, -0.142],\n",
            "                  6: [-83.7157, 48.6968, 0.036],\n",
            "                  7: [-0.0, 0.0, -0.0],\n",
            "                  'units': ['nm', 'nm', 'deg']},\n",
            "         'load': '200.0 uN',\n",
            "         'react': {1: [-18.0358, -100.0, 2124601.156],\n",
            "                   2: [0.0, 0.0, 0.0],\n",
            "                   3: [0.0, -0.0, -0.0],\n",
            "                   4: [0.0, 0.0, 0.0],\n",
            "                   5: [-0.0, 0.0, 0.0],\n",
            "                   6: [0.0, -0.0, -0.0],\n",
            "                   7: [18.0358, -100.0, -2124601.086],\n",
            "                   'units': ['uN', 'uN', 'uN*nm']}},\n",
            " 400.0: {'disp': {1: [-0.0, 0.0, -0.0],\n",
            "                  2: [167.4315, 97.3936, -0.071],\n",
            "                  3: [-0.0732, 194.9985, 0.285],\n",
            "                  4: [0.0, 284.4445, -0.0],\n",
            "                  5: [0.0732, 194.9985, -0.285],\n",
            "                  6: [-167.4315, 97.3936, 0.071],\n",
            "                  7: [-0.0, 0.0, -0.0],\n",
            "                  'units': ['nm', 'nm', 'deg']},\n",
            "         'load': '400.0 uN',\n",
            "         'react': {1: [-36.0716, -200.0, 4249202.312],\n",
            "                   2: [0.0, 0.0, 0.0],\n",
            "                   3: [0.0, -0.0, -0.0],\n",
            "                   4: [0.0, 0.0, 0.0],\n",
            "                   5: [-0.0, 0.0, 0.0],\n",
            "                   6: [0.0, -0.0, -0.0],\n",
            "                   7: [36.0716, -200.0, -4249202.172],\n",
            "                   'units': ['uN', 'uN', 'uN*nm']}},\n",
            " 800.0: {'disp': {1: [-0.0, 0.0, -0.0],\n",
            "                  2: [334.863, 194.7872, -0.142],\n",
            "                  3: [-0.1463, 389.9969, 0.569],\n",
            "                  4: [0.0, 568.889, -0.0],\n",
            "                  5: [0.1464, 389.9969, -0.569],\n",
            "                  6: [-334.863, 194.7872, 0.142],\n",
            "                  7: [-0.0, 0.0, -0.0],\n",
            "                  'units': ['nm', 'nm', 'deg']},\n",
            "         'load': '800.0 uN',\n",
            "         'react': {1: [-72.1432, -400.0, 8498404.624],\n",
            "                   2: [0.0, 0.0, 0.0],\n",
            "                   3: [0.0, -0.0, -0.0],\n",
            "                   4: [0.0, 0.0, 0.0],\n",
            "                   5: [-0.0, 0.0, 0.0],\n",
            "                   6: [0.0, -0.0, -0.0],\n",
            "                   7: [72.1432, -400.0, -8498404.344],\n",
            "                   'units': ['uN', 'uN', 'uN*nm']}},\n",
            " 1600.0: {'disp': {1: [-0.0, 0.0, -0.0],\n",
            "                   2: [669.726, 389.5744, -0.284],\n",
            "                   3: [-0.2927, 779.9939, 1.139],\n",
            "                   4: [0.0, 1137.7779, -0.0],\n",
            "                   5: [0.2927, 779.9938, -1.139],\n",
            "                   6: [-669.726, 389.5744, 0.284],\n",
            "                   7: [-0.0, 0.0, -0.0],\n",
            "                   'units': ['nm', 'nm', 'deg']},\n",
            "          'load': '1600.0 uN',\n",
            "          'react': {1: [-144.2864, -800.0, 16996809.249],\n",
            "                    2: [0.0, 0.0, 0.0],\n",
            "                    3: [0.0, -0.0, -0.0],\n",
            "                    4: [0.0, 0.0, 0.0],\n",
            "                    5: [-0.0, 0.0, 0.0],\n",
            "                    6: [0.0, -0.0, -0.0],\n",
            "                    7: [144.2864, -800.0, -16996808.688],\n",
            "                    'units': ['uN', 'uN', 'uN*nm']}}}\n"
          ],
          "name": "stdout"
        }
      ]
    },
    {
      "cell_type": "code",
      "metadata": {
        "id": "xu3kn6H0ivvI",
        "cellView": "both",
        "outputId": "470f233a-f188-4ba7-e51b-9b4d1c8e49fd",
        "colab": {
          "base_uri": "https://localhost:8080/",
          "height": 281
        }
      },
      "source": [
        "#@title\n",
        "loads = sorted(res.keys())\n",
        "dy2 = [res[load]['disp'][2][1] for load in loads]\n",
        "dy3 = [res[load]['disp'][3][1] for load in loads]\n",
        "dy4 = [res[load]['disp'][4][1] for load in loads]\n",
        "M1 = [res[load]['react'][1][2] for load in loads]\n",
        "plt.scatter(loads,dy2,c='tab:red',label='dy2')\n",
        "plt.scatter(loads,dy3,c='tab:blue',label='dy3')\n",
        "plt.scatter(loads,dy4,c='tab:green',label='dy4')\n",
        "plt.legend()\n",
        "plt.title('Hex Cell Displacements (nm) vs Load (uN)')\n",
        "plt.show()\n"
      ],
      "execution_count": 9,
      "outputs": [
        {
          "output_type": "display_data",
          "data": {
            "image/png": "[encoded data removed]",
            "text/plain": [
              "<Figure size 432x288 with 1 Axes>"
            ]
          },
          "metadata": {
            "tags": [],
            "needs_background": "light"
          }
        }
      ]
    },
    {
      "cell_type": "code",
      "metadata": {
        "id": "efucpYoVsI48",
        "cellView": "both",
        "outputId": "c1e0225e-0ef7-47ab-9c6c-e6d39fb95725",
        "colab": {
          "base_uri": "https://localhost:8080/",
          "height": 52
        }
      },
      "source": [
        "#@title\n",
        "kstiff = [f/d for f,d in zip(loads,dy4)]\n",
        "#print(kstiff)\n",
        "abc = np.round(np.mean(kstiff),5)\n",
        "#print(abc)\n",
        "print(f'Avg Stiffness: {abc} uN/nm at Node4 (midspan of top)')\n",
        "print(f'Conversely: {np.round(1/abc,5)} nm/uN at Node4')"
      ],
      "execution_count": 10,
      "outputs": [
        {
          "output_type": "stream",
          "text": [
            "Avg Stiffness: 1.40625 uN/nm at Node4 (midspan of top)\n",
            "Conversely: 0.71111 nm/uN at Node4\n"
          ],
          "name": "stdout"
        }
      ]
    }
  ]
}